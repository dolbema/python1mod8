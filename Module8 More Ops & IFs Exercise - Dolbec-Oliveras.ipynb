{
 "cells": [
  {
   "cell_type": "markdown",
   "metadata": {},
   "source": [
    "### Exercise 1\n",
    "Ask for an exam score and store that number. If the number is greater than 100, then print out 'You cannot have an exam score higher than 100'. If the number doesn't exceeed 100 but is greater than or equal to 75, then print out 'You did great on your exam!'. Otherwise if they scored lower than 75, then print out 'You need to study harder'."
   ]
  },
  {
   "cell_type": "code",
   "execution_count": 8,
   "metadata": {},
   "outputs": [
    {
     "name": "stdin",
     "output_type": "stream",
     "text": [
      "Enter a score: -1\n"
     ]
    },
    {
     "name": "stdout",
     "output_type": "stream",
     "text": [
      "impossible...maybe I should re-grade your exam\n"
     ]
    }
   ],
   "source": [
    "score=int(input(\"Enter a score:\"))\n",
    "\n",
    "if score>100:\n",
    "    print(\"You cannot have an exam score higher than 100\")\n",
    "\n",
    "elif score>=75 and score<=100:\n",
    "    print(\"You did great on your exam!\")\n",
    "\n",
    "elif score>=0 and score<75:\n",
    "    print('You need to study harder')\n",
    "\n",
    "else:\n",
    "    print('impossible...maybe I should re-grade your exam')  \n",
    "        \n",
    "          "
   ]
  },
  {
   "cell_type": "code",
   "execution_count": null,
   "metadata": {},
   "outputs": [],
   "source": []
  },
  {
   "cell_type": "markdown",
   "metadata": {},
   "source": [
    "### Exercise 2\n",
    "Ask a user to enter two numbers and find their average. Then, print out the average and whether each number is below or above average. Determine if a function should be created or not.\n",
    "    "
   ]
  },
  {
   "cell_type": "code",
   "execution_count": 9,
   "metadata": {},
   "outputs": [],
   "source": [
    "def average(arg1, avg) :\n",
    "    if arg1<avg:\n",
    "        print(f\"{arg1} is below the average\")\n",
    "    elif arg1>avg:\n",
    "        print(f\"{arg1} is above the average\")\n",
    "    else:\n",
    "        print\n",
    "    return"
   ]
  },
  {
   "cell_type": "code",
   "execution_count": 13,
   "metadata": {},
   "outputs": [
    {
     "name": "stdin",
     "output_type": "stream",
     "text": [
      "Please enter a number 10\n",
      "Please enter a second number 2\n"
     ]
    },
    {
     "name": "stdout",
     "output_type": "stream",
     "text": [
      "10 is below the average\n",
      "2 is below the average\n"
     ]
    }
   ],
   "source": [
    "num1=int(input(\"Please enter a number\"))\n",
    "num2=int(input(\"Please enter a second number\"))\n",
    "\n",
    "avg= (num1+ num2)\n",
    "average(num1, avg)\n",
    "average(num2, avg)"
   ]
  },
  {
   "cell_type": "code",
   "execution_count": null,
   "metadata": {},
   "outputs": [],
   "source": []
  },
  {
   "cell_type": "markdown",
   "metadata": {},
   "source": [
    "### Exercise 3\n",
    "Write a function to convert a test score to a grade where  \n",
    " - 90 - 100: A\n",
    " - 80 - 89:  B\n",
    " - 70 - 79:  C\n",
    " - 60 - 69:  D\n",
    " - < 60   :  F\n",
    " \n",
    "If a score is not between 0 and 100 then print out an error message. In the program, ask the user for a score and then call your function. "
   ]
  },
  {
   "cell_type": "code",
   "execution_count": 14,
   "metadata": {},
   "outputs": [],
   "source": [
    "def grade_converter(score):\n",
    "    if score > 100 or score<0:\n",
    "        reply = \"Impossible score...score must be between 0 and 100\"\n",
    "    elif score>=90:\n",
    "        reply = \"You got an A\"\n",
    "    elif score>=80:\n",
    "        reply = \"You got a B\"\n",
    "    elif score>=70:\n",
    "        reply = \"You got a C\"\n",
    "    elif score>=60:\n",
    "        reply = \"You got a D\"\n",
    "    else:\n",
    "       reply = \"You got a F\" \n",
    "    return reply"
   ]
  },
  {
   "cell_type": "code",
   "execution_count": 15,
   "metadata": {},
   "outputs": [
    {
     "name": "stdin",
     "output_type": "stream",
     "text": [
      "Please enter your test score: 71\n"
     ]
    },
    {
     "name": "stdout",
     "output_type": "stream",
     "text": [
      "You got a C\n"
     ]
    }
   ],
   "source": [
    "score=int(input(\"Please enter your test score:\"))\n",
    "print(grade_converter(score))"
   ]
  },
  {
   "cell_type": "code",
   "execution_count": null,
   "metadata": {},
   "outputs": [],
   "source": []
  },
  {
   "cell_type": "markdown",
   "metadata": {},
   "source": [
    "### Exercise 4\n",
    "Convert following decimal number to a binary number by hand:\n",
    "\n",
    "    61\n",
    "    15\n",
    "    71\n",
    "    "
   ]
  },
  {
   "cell_type": "code",
   "execution_count": 27,
   "metadata": {},
   "outputs": [
    {
     "name": "stdout",
     "output_type": "stream",
     "text": [
      "30 1\n",
      "15 0\n",
      "7 1\n",
      "3 1\n",
      "1 1\n",
      "0 1\n",
      "'0b111101' is the binary number\n",
      "61\n"
     ]
    },
    {
     "data": {
      "text/plain": [
       "'0b111101'"
      ]
     },
     "execution_count": 27,
     "metadata": {},
     "output_type": "execute_result"
    }
   ],
   "source": [
    "print(61//2, 61%2)\n",
    "print(30//2, 30%2)\n",
    "print(15//2, 15%2)\n",
    "print(7//2, 7%2)\n",
    "print(3//2, 3%2)\n",
    "print(1//2, 1%2)\n",
    "\n",
    "\n",
    "print(\"'0b111101' is the binary number\")\n",
    "print(int(0b111101))\n",
    "bin(61)"
   ]
  },
  {
   "cell_type": "code",
   "execution_count": 29,
   "metadata": {},
   "outputs": [
    {
     "name": "stdout",
     "output_type": "stream",
     "text": [
      "7 1\n",
      "3 1\n",
      "1 1\n",
      "0 1\n",
      "'0b1111' is the binary number\n",
      "15\n"
     ]
    },
    {
     "data": {
      "text/plain": [
       "'0b1111'"
      ]
     },
     "execution_count": 29,
     "metadata": {},
     "output_type": "execute_result"
    }
   ],
   "source": [
    "print(15//2, 15%2)\n",
    "print(7//2, 7%2)\n",
    "print(3//2, 3%2)\n",
    "print(1//2, 1%2)\n",
    "\n",
    "\n",
    "print(\"'0b1111' is the binary number\")\n",
    "print(int(0b1111))\n",
    "bin(15)"
   ]
  },
  {
   "cell_type": "code",
   "execution_count": 31,
   "metadata": {},
   "outputs": [
    {
     "name": "stdout",
     "output_type": "stream",
     "text": [
      "35 1\n",
      "17 1\n",
      "8 1\n",
      "4 0\n",
      "2 0\n",
      "1 0\n",
      "0 1\n",
      "'0b1000111' is the binary number\n",
      "71\n"
     ]
    },
    {
     "data": {
      "text/plain": [
       "'0b1000111'"
      ]
     },
     "execution_count": 31,
     "metadata": {},
     "output_type": "execute_result"
    }
   ],
   "source": [
    "print(71//2, 71%2)\n",
    "print(35//2, 35%2)\n",
    "print(17//2, 17%2)\n",
    "print(8//2, 8%2)\n",
    "print(4//2, 4%2)\n",
    "print(2//2, 2%2)\n",
    "print(1//2, 1%2)\n",
    "\n",
    "print(\"'0b1000111' is the binary number\")\n",
    "print(int(0b1000111))\n",
    "bin(71)"
   ]
  },
  {
   "cell_type": "markdown",
   "metadata": {},
   "source": [
    "### Exercise 5\n",
    "When a = 61 and b = 15, what is the result of following bitwise opertion? Use inline comments to show your result in a binary number. Find your answer by hand.\n",
    "\n",
    "    a & b\n",
    "    a | b\n",
    "    a ^ b\n",
    "    a >> 2\n",
    "    "
   ]
  },
  {
   "cell_type": "code",
   "execution_count": null,
   "metadata": {},
   "outputs": [],
   "source": [
    "#a=0b111101=0011 1101\n",
    "#b=0b1111=  0000 1111"
   ]
  },
  {
   "cell_type": "code",
   "execution_count": null,
   "metadata": {},
   "outputs": [],
   "source": [
    "#a & b =    0000 1101"
   ]
  },
  {
   "cell_type": "code",
   "execution_count": null,
   "metadata": {},
   "outputs": [],
   "source": [
    "#a | b =    0011 1111"
   ]
  },
  {
   "cell_type": "code",
   "execution_count": null,
   "metadata": {},
   "outputs": [],
   "source": [
    "#a ^ b =    0011 0010"
   ]
  },
  {
   "cell_type": "code",
   "execution_count": null,
   "metadata": {},
   "outputs": [],
   "source": [
    "# a>>2 =    0000 1111"
   ]
  }
 ],
 "metadata": {
  "kernelspec": {
   "display_name": "Python 3 (ipykernel)",
   "language": "python",
   "name": "python3"
  },
  "language_info": {
   "codemirror_mode": {
    "name": "ipython",
    "version": 3
   },
   "file_extension": ".py",
   "mimetype": "text/x-python",
   "name": "python",
   "nbconvert_exporter": "python",
   "pygments_lexer": "ipython3",
   "version": "3.11.7"
  }
 },
 "nbformat": 4,
 "nbformat_minor": 4
}
